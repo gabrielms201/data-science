{
    "cells": [
        {
            "cell_type": "markdown",
            "source": [
                "# First MatPlotLib Contact"
            ],
            "metadata": {}
        },
        {
            "cell_type": "code",
            "execution_count": null,
            "source": [
                "#1\r\n",
                "import numpy as np\r\n",
                "import matplotlib.pyplot as plt\r\n",
                "\r\n",
                "X = np.linspace(-np.pi, np.pi, 256, endpoint = True)\r\n",
                "C, S = np.cos(X), np.sin(X)\r\n",
                "\r\n",
                "fig, ax = plt.subplots()\r\n",
                "ax.plot(X, C)\r\n",
                "ax.plot(X, S)\r\n",
                "plt.show()"
            ],
            "outputs": [],
            "metadata": {}
        }
    ],
    "metadata": {
        "orig_nbformat": 4,
        "language_info": {
            "name": "python",
            "version": "3.9.5",
            "mimetype": "text/x-python",
            "codemirror_mode": {
                "name": "ipython",
                "version": 3
            },
            "pygments_lexer": "ipython3",
            "nbconvert_exporter": "python",
            "file_extension": ".py"
        },
        "kernelspec": {
            "name": "python3",
            "display_name": "Python 3.9.5 64-bit"
        },
        "interpreter": {
            "hash": "0a6923e2de5b2441536a7ca1042e6fb41cfaf2181ca5203439234d38c6d8d988"
        }
    },
    "nbformat": 4,
    "nbformat_minor": 2
}